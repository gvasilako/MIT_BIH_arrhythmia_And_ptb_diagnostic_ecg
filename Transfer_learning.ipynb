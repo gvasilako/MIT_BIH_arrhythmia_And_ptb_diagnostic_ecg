{
 "cells": [
  {
   "cell_type": "markdown",
   "metadata": {},
   "source": [
    "# Transfer Learning"
   ]
  },
  {
   "cell_type": "code",
   "execution_count": 1,
   "metadata": {
    "colab": {
     "base_uri": "https://localhost:8080/",
     "height": 139
    },
    "colab_type": "code",
    "id": "ehkuLpzjPaKn",
    "outputId": "74d8b5ee-fa9f-400d-cd51-5bb60a710d08"
   },
   "outputs": [],
   "source": [
    "import pandas as pd\n",
    "import numpy as np\n",
    "from keras import optimizers, losses, activations, models\n",
    "from keras.callbacks import ModelCheckpoint, EarlyStopping, LearningRateScheduler, ReduceLROnPlateau\n",
    "from keras.layers import Dense, Input, Dropout\n",
    "from sklearn.metrics import accuracy_score, f1_score\n",
    "from sklearn.model_selection import train_test_split\n",
    "import seaborn as sns\n",
    "import matplotlib.pyplot as plt\n",
    "from keras import optimizers, losses, activations, models\n",
    "from keras.callbacks import ModelCheckpoint, EarlyStopping, LearningRateScheduler, ReduceLROnPlateau\n",
    "from keras.layers import Dense, Input, Dropout, Convolution1D, MaxPool1D, GlobalMaxPool1D, GlobalAveragePooling1D,concatenate,\\\n",
    "Dense,Dropout,LSTM,Masking,Bidirectional,Dropout,GRU,SimpleRNN,TimeDistributed\n",
    "from keras.models import Sequential,Model\n",
    "import tensorflow as tf\n",
    "from sklearn.metrics import accuracy_score,precision_recall_curve,roc_auc_score,auc\n",
    "import collections\n",
    "from keras import backend as K\n",
    "\n",
    "\n",
    "\n",
    "path='/gdrive/My Drive/Colab Notebooks/ML4HC/project3/Data/'\n",
    "\n",
    "df_1 = pd.read_csv(path+\"ptbdb_normal.csv\", header=None)\n",
    "df_2 = pd.read_csv(path+\"ptbdb_abnormal.csv\", header=None)\n",
    "df = pd.concat([df_1, df_2])\n",
    "\n",
    "df_train, df_test = train_test_split(df, test_size=0.2, random_state=1337, stratify=df[187])\n",
    "\n",
    "\n",
    "Y = np.array(df_train[187].values).astype(np.int8)\n",
    "X = np.array(df_train[list(range(187))].values)[..., np.newaxis]\n",
    "\n",
    "Y_test = np.array(df_test[187].values).astype(np.int8)\n",
    "X_test = np.array(df_test[list(range(187))].values)[..., np.newaxis]"
   ]
  },
  {
   "cell_type": "code",
   "execution_count": 0,
   "metadata": {
    "colab": {},
    "colab_type": "code",
    "id": "ZDUvhiR4b20J"
   },
   "outputs": [],
   "source": [
    "def auc_score(y_true, y_pred):\n",
    "    auc = tf.metrics.auc(y_true, y_pred)[1]\n",
    "    K.get_session().run(tf.local_variables_initializer())\n",
    "    return auc\n",
    "\n",
    "def AUPRC(y_true,y_prob):\n",
    "    precision, recall, thresholds = precision_recall_curve(y_true, y_prob)\n",
    "    return auc(recall, precision)"
   ]
  },
  {
   "cell_type": "markdown",
   "metadata": {
    "colab_type": "text",
    "id": "Woi_pRbfRkbs"
   },
   "source": [
    "#### All the models including in this section can be loaded from the external file called Models. The 2 stacked Bidirectional GRU is used as the base model."
   ]
  },
  {
   "cell_type": "code",
   "execution_count": null,
   "metadata": {},
   "outputs": [],
   "source": [
    "path='/gdrive/My Drive/Colab Notebooks/ML4HC/project3/Models/'"
   ]
  },
  {
   "cell_type": "markdown",
   "metadata": {
    "colab_type": "text",
    "id": "mrjcFwn9b7lM"
   },
   "source": [
    "## Freeze Initial model, train only the final layer\n"
   ]
  },
  {
   "cell_type": "code",
   "execution_count": 0,
   "metadata": {
    "colab": {},
    "colab_type": "code",
    "id": "Tehdt5vhSCZT"
   },
   "outputs": [],
   "source": [
    "model=Sequential()\n",
    "model.add(Masking(mask_value=0.,input_shape=(187,1)))\n",
    "model.add(Bidirectional(GRU(100,return_sequences=True)))\n",
    "model.add(Dropout(0.2))\n",
    "model.add(Bidirectional(GRU(100)))\n",
    "model.add(Dropout(0.2))\n",
    "model.add(Dense(5,activation=activations.softmax))\n",
    "\n",
    "model.load_weights(path+'2_Bid_GRU_100_100dropout0202.h5')\n",
    "model.summary()"
   ]
  },
  {
   "cell_type": "code",
   "execution_count": 0,
   "metadata": {
    "colab": {},
    "colab_type": "code",
    "id": "RzrTyzjoTe2o"
   },
   "outputs": [],
   "source": [
    "#Delete the output layer\n",
    "model.pop()"
   ]
  },
  {
   "cell_type": "code",
   "execution_count": 0,
   "metadata": {
    "colab": {},
    "colab_type": "code",
    "id": "tOCBiZ1UTe_j"
   },
   "outputs": [],
   "source": [
    "#Freeze the model\n",
    "model.layers[1].trainable=False\n",
    "model.layers[3].trainable=False\n",
    "\n",
    "# Add trainable output layer\n",
    "model.add(Dense(1,activation=activations.sigmoid))"
   ]
  },
  {
   "cell_type": "code",
   "execution_count": 0,
   "metadata": {
    "colab": {
     "base_uri": "https://localhost:8080/",
     "height": 462
    },
    "colab_type": "code",
    "id": "h9L5djUeTfGm",
    "outputId": "1a2b19ab-8e76-4e23-8dd6-b2df668de461"
   },
   "outputs": [
    {
     "name": "stdout",
     "output_type": "stream",
     "text": [
      "WARNING:tensorflow:From /usr/local/lib/python3.6/dist-packages/tensorflow/python/ops/metrics_impl.py:526: to_float (from tensorflow.python.ops.math_ops) is deprecated and will be removed in a future version.\n",
      "Instructions for updating:\n",
      "Use tf.cast instead.\n",
      "WARNING:tensorflow:From /usr/local/lib/python3.6/dist-packages/tensorflow/python/ops/metrics_impl.py:788: div (from tensorflow.python.ops.math_ops) is deprecated and will be removed in a future version.\n",
      "Instructions for updating:\n",
      "Deprecated in favor of operator or tf.math.divide.\n",
      "_________________________________________________________________\n",
      "Layer (type)                 Output Shape              Param #   \n",
      "=================================================================\n",
      "masking_1 (Masking)          (None, 187, 1)            0         \n",
      "_________________________________________________________________\n",
      "bidirectional_1 (Bidirection (None, 187, 200)          61200     \n",
      "_________________________________________________________________\n",
      "dropout_1 (Dropout)          (None, 187, 200)          0         \n",
      "_________________________________________________________________\n",
      "bidirectional_2 (Bidirection (None, 200)               180600    \n",
      "_________________________________________________________________\n",
      "dropout_2 (Dropout)          (None, 200)               0         \n",
      "_________________________________________________________________\n",
      "dense_2 (Dense)              (None, 1)                 201       \n",
      "=================================================================\n",
      "Total params: 242,001\n",
      "Trainable params: 201\n",
      "Non-trainable params: 241,800\n",
      "_________________________________________________________________\n"
     ]
    }
   ],
   "source": [
    "opt = optimizers.Adam(0.001)\n",
    "\n",
    "model.compile(optimizer=opt, loss=losses.binary_crossentropy, metrics=['acc',auc_score])\n",
    "model.summary()"
   ]
  },
  {
   "cell_type": "code",
   "execution_count": 0,
   "metadata": {
    "colab": {},
    "colab_type": "code",
    "id": "DIJdumBPQicG"
   },
   "outputs": [],
   "source": [
    "file_path = path+\"Transfer_one.h5\"\n",
    "checkpoint = ModelCheckpoint(file_path, monitor='val_acc', verbose=1, save_best_only=True, mode='max')\n",
    "early = EarlyStopping(monitor=\"val_acc\", mode=\"max\", patience=5, verbose=1)\n",
    "redonplat = ReduceLROnPlateau(monitor=\"val_acc\", mode=\"max\", patience=3, verbose=2)\n",
    "callbacks_list = [checkpoint, early, redonplat]  # early\n",
    "\n",
    "#model.fit(X, Y, epochs=100, verbose=2, callbacks=callbacks_list, validation_split=0.1)"
   ]
  },
  {
   "cell_type": "code",
   "execution_count": 0,
   "metadata": {
    "colab": {
     "base_uri": "https://localhost:8080/",
     "height": 68
    },
    "colab_type": "code",
    "id": "MsTdsdZdaw8C",
    "outputId": "563bcae0-7ec4-4ada-e11d-25d8646ac98c"
   },
   "outputs": [
    {
     "name": "stdout",
     "output_type": "stream",
     "text": [
      "Test AUPRC score : 0.9704612178250035 \n",
      "Test AUROC score : 0.9289063685300596 \n",
      "Test accuracy score : 0.8763311576777739 \n"
     ]
    }
   ],
   "source": [
    "model.load_weights(path+\"Transfer_one.h5\")\n",
    "\n",
    "pred_test = model.predict(X_test)\n",
    "print(\"Test AUPRC score : %s \"% AUPRC(Y_test,pred_test))\n",
    "print(\"Test AUROC score : %s \"% roc_auc_score(Y_test,pred_test))\n",
    "\n",
    "pred_test = (pred_test>0.5).astype(np.int8)\n",
    "\n",
    "acc = accuracy_score(Y_test, pred_test)\n",
    "\n",
    "print(\"Test accuracy score : %s \"% acc)"
   ]
  },
  {
   "cell_type": "markdown",
   "metadata": {
    "colab_type": "text",
    "id": "eYXFtyf5khGA"
   },
   "source": [
    "## Retrain the whole model"
   ]
  },
  {
   "cell_type": "code",
   "execution_count": 0,
   "metadata": {
    "colab": {
     "base_uri": "https://localhost:8080/",
     "height": 340
    },
    "colab_type": "code",
    "id": "EfR5A8IRkvPZ",
    "outputId": "64dc8090-8690-44d7-e5b5-cbd2e0206b65"
   },
   "outputs": [
    {
     "name": "stdout",
     "output_type": "stream",
     "text": [
      "_________________________________________________________________\n",
      "Layer (type)                 Output Shape              Param #   \n",
      "=================================================================\n",
      "masking_2 (Masking)          (None, 187, 1)            0         \n",
      "_________________________________________________________________\n",
      "bidirectional_3 (Bidirection (None, 187, 200)          61200     \n",
      "_________________________________________________________________\n",
      "dropout_3 (Dropout)          (None, 187, 200)          0         \n",
      "_________________________________________________________________\n",
      "bidirectional_4 (Bidirection (None, 200)               180600    \n",
      "_________________________________________________________________\n",
      "dropout_4 (Dropout)          (None, 200)               0         \n",
      "_________________________________________________________________\n",
      "dense_4 (Dense)              (None, 1)                 201       \n",
      "=================================================================\n",
      "Total params: 242,001\n",
      "Trainable params: 242,001\n",
      "Non-trainable params: 0\n",
      "_________________________________________________________________\n"
     ]
    }
   ],
   "source": [
    "model=Sequential()\n",
    "model.add(Masking(mask_value=0.,input_shape=(187,1)))\n",
    "model.add(Bidirectional(GRU(100,return_sequences=True)))\n",
    "model.add(Dropout(0.2))\n",
    "model.add(Bidirectional(GRU(100)))\n",
    "model.add(Dropout(0.2))\n",
    "model.add(Dense(5,activation=activations.softmax))\n",
    "\n",
    "model.load_weights(path+'2_Bid_GRU_100_100dropout0202.h5')\n",
    "\n",
    "model.pop()\n",
    "\n",
    "model.add(Dense(1,activation=activations.sigmoid))\n",
    "\n",
    "model.summary()\n",
    "\n",
    "opt = optimizers.Adam(0.001)\n",
    "\n",
    "model.compile(optimizer=opt, loss=losses.binary_crossentropy, metrics=['acc',auc_score])"
   ]
  },
  {
   "cell_type": "code",
   "execution_count": 0,
   "metadata": {
    "colab": {},
    "colab_type": "code",
    "id": "O7H9ef7dlF4R"
   },
   "outputs": [],
   "source": [
    "file_path =path+ \"Transfer_two.h5\"\n",
    "checkpoint = ModelCheckpoint(file_path, monitor='val_acc', verbose=1, save_best_only=True, mode='max')\n",
    "early = EarlyStopping(monitor=\"val_acc\", mode=\"max\", patience=5, verbose=1)\n",
    "redonplat = ReduceLROnPlateau(monitor=\"val_acc\", mode=\"max\", patience=3, verbose=2)\n",
    "callbacks_list = [checkpoint, early, redonplat]  # early\n",
    "\n",
    "#model.fit(X, Y, epochs=1000, verbose=2, callbacks=callbacks_list, validation_split=0.1)"
   ]
  },
  {
   "cell_type": "code",
   "execution_count": 0,
   "metadata": {
    "colab": {
     "base_uri": "https://localhost:8080/",
     "height": 68
    },
    "colab_type": "code",
    "id": "xeTcgltGm6c2",
    "outputId": "5d134778-3080-4baa-c3c4-f2cd57071cf6"
   },
   "outputs": [
    {
     "name": "stdout",
     "output_type": "stream",
     "text": [
      "Test AUPRC score : 0.9995184606425771 \n",
      "Test AUROC score : 0.9988791650544129 \n",
      "Test accuracy score : 0.9931295087598764 \n"
     ]
    }
   ],
   "source": [
    "model.load_weights(path+\"Transfer_two.h5\")\n",
    "\n",
    "pred_test = model.predict(X_test)\n",
    "print(\"Test AUPRC score : %s \"% AUPRC(Y_test,pred_test))\n",
    "print(\"Test AUROC score : %s \"% roc_auc_score(Y_test,pred_test))\n",
    "\n",
    "pred_test = (pred_test>0.5).astype(np.int8)\n",
    "\n",
    "acc = accuracy_score(Y_test, pred_test)\n",
    "\n",
    "print(\"Test accuracy score : %s \"% acc)"
   ]
  },
  {
   "cell_type": "markdown",
   "metadata": {
    "colab_type": "text",
    "id": "6xgJpuKKnMR-"
   },
   "source": [
    "## First Freeze ,then retrain the whole model"
   ]
  },
  {
   "cell_type": "code",
   "execution_count": 0,
   "metadata": {
    "colab": {
     "base_uri": "https://localhost:8080/",
     "height": 340
    },
    "colab_type": "code",
    "id": "7gKQqZNWnZ6R",
    "outputId": "934a6f54-ef59-494a-8366-433b99c44e0f"
   },
   "outputs": [
    {
     "name": "stdout",
     "output_type": "stream",
     "text": [
      "_________________________________________________________________\n",
      "Layer (type)                 Output Shape              Param #   \n",
      "=================================================================\n",
      "masking_3 (Masking)          (None, 187, 1)            0         \n",
      "_________________________________________________________________\n",
      "bidirectional_5 (Bidirection (None, 187, 200)          61200     \n",
      "_________________________________________________________________\n",
      "dropout_5 (Dropout)          (None, 187, 200)          0         \n",
      "_________________________________________________________________\n",
      "bidirectional_6 (Bidirection (None, 200)               180600    \n",
      "_________________________________________________________________\n",
      "dropout_6 (Dropout)          (None, 200)               0         \n",
      "_________________________________________________________________\n",
      "dense_5 (Dense)              (None, 1)                 201       \n",
      "=================================================================\n",
      "Total params: 242,001\n",
      "Trainable params: 242,001\n",
      "Non-trainable params: 0\n",
      "_________________________________________________________________\n"
     ]
    }
   ],
   "source": [
    "model=Sequential()\n",
    "model.add(Masking(mask_value=0.,input_shape=(187,1)))\n",
    "model.add(Bidirectional(GRU(100,return_sequences=True)))\n",
    "model.add(Dropout(0.2))\n",
    "model.add(Bidirectional(GRU(100)))\n",
    "model.add(Dropout(0.2))\n",
    "model.add(Dense(1,activation=activations.sigmoid))\n",
    "\n",
    "#load the model from transfer learning part 1\n",
    "model.load_weights(path+'Transfer_one.h5')\n",
    "\n",
    "\n",
    "model.summary()\n",
    "\n",
    "opt = optimizers.Adam(0.001)\n",
    "\n",
    "model.compile(optimizer=opt, loss=losses.binary_crossentropy, metrics=['acc',auc_score])"
   ]
  },
  {
   "cell_type": "code",
   "execution_count": 0,
   "metadata": {
    "colab": {},
    "colab_type": "code",
    "id": "5HaVHysQoR_8"
   },
   "outputs": [],
   "source": [
    "file_path =path+ \"Transfer_three.h5\"\n",
    "checkpoint = ModelCheckpoint(file_path, monitor='val_acc', verbose=1, save_best_only=True, mode='max')\n",
    "early = EarlyStopping(monitor=\"val_acc\", mode=\"max\", patience=5, verbose=1)\n",
    "redonplat = ReduceLROnPlateau(monitor=\"val_acc\", mode=\"max\", patience=3, verbose=2)\n",
    "callbacks_list = [checkpoint, early, redonplat]  # early\n",
    "\n",
    "#model.fit(X, Y, epochs=1000, verbose=2, callbacks=callbacks_list, validation_split=0.1)"
   ]
  },
  {
   "cell_type": "code",
   "execution_count": 0,
   "metadata": {
    "colab": {
     "base_uri": "https://localhost:8080/",
     "height": 68
    },
    "colab_type": "code",
    "id": "WXuuHiFgpT9F",
    "outputId": "702f0bce-4ce0-4fcd-a100-f040bcb75639"
   },
   "outputs": [
    {
     "name": "stdout",
     "output_type": "stream",
     "text": [
      "Test AUPRC score : 0.9994456356954413 \n",
      "Test AUROC score : 0.9988876918680072 \n",
      "Test accuracy score : 0.9917554105118516 \n"
     ]
    }
   ],
   "source": [
    "model.load_weights(path+\"Transfer_three.h5\")\n",
    "\n",
    "pred_test = model.predict(X_test)\n",
    "print(\"Test AUPRC score : %s \"% AUPRC(Y_test,pred_test))\n",
    "print(\"Test AUROC score : %s \"% roc_auc_score(Y_test,pred_test))\n",
    "\n",
    "pred_test = (pred_test>0.5).astype(np.int8)\n",
    "\n",
    "acc = accuracy_score(Y_test, pred_test)\n",
    "\n",
    "print(\"Test accuracy score : %s \"% acc)"
   ]
  },
  {
   "cell_type": "markdown",
   "metadata": {},
   "source": [
    "# Results"
   ]
  },
  {
   "cell_type": "code",
   "execution_count": 14,
   "metadata": {},
   "outputs": [
    {
     "data": {
      "text/html": [
       "<div>\n",
       "<style scoped>\n",
       "    .dataframe tbody tr th:only-of-type {\n",
       "        vertical-align: middle;\n",
       "    }\n",
       "\n",
       "    .dataframe tbody tr th {\n",
       "        vertical-align: top;\n",
       "    }\n",
       "\n",
       "    .dataframe thead th {\n",
       "        text-align: right;\n",
       "    }\n",
       "</style>\n",
       "<table border=\"1\" class=\"dataframe\">\n",
       "  <thead>\n",
       "    <tr style=\"text-align: right;\">\n",
       "      <th></th>\n",
       "      <th>Test Accuracy</th>\n",
       "      <th>Test AUROC</th>\n",
       "      <th>Test_AUPRC</th>\n",
       "    </tr>\n",
       "  </thead>\n",
       "  <tbody>\n",
       "    <tr>\n",
       "      <th>Train only the final layer</th>\n",
       "      <td>0.8760</td>\n",
       "      <td>0.9290</td>\n",
       "      <td>0.971</td>\n",
       "    </tr>\n",
       "    <tr>\n",
       "      <th>Retrain the whole model</th>\n",
       "      <td>0.9931</td>\n",
       "      <td>0.9989</td>\n",
       "      <td>0.999</td>\n",
       "    </tr>\n",
       "    <tr>\n",
       "      <th>First Freeze,then retrain the whole model</th>\n",
       "      <td>0.9917</td>\n",
       "      <td>0.9989</td>\n",
       "      <td>0.999</td>\n",
       "    </tr>\n",
       "  </tbody>\n",
       "</table>\n",
       "</div>"
      ],
      "text/plain": [
       "                                           Test Accuracy  Test AUROC  \\\n",
       "Train only the final layer                        0.8760      0.9290   \n",
       "Retrain the whole model                           0.9931      0.9989   \n",
       "First Freeze,then retrain the whole model         0.9917      0.9989   \n",
       "\n",
       "                                           Test_AUPRC  \n",
       "Train only the final layer                      0.971  \n",
       "Retrain the whole model                         0.999  \n",
       "First Freeze,then retrain the whole model       0.999  "
      ]
     },
     "execution_count": 14,
     "metadata": {},
     "output_type": "execute_result"
    }
   ],
   "source": [
    "models=['Train only the final layer','Retrain the whole model','First Freeze,then retrain the whole model']\n",
    "Test_acc=[0.876,0.9931,0.9917]\n",
    "Test_AUROC=[0.929,0.9989,0.9989]\n",
    "Test_AUPRC=[0.971,0.999,0.999]\n",
    "Results=pd.DataFrame(index=models)\n",
    "Results['Test Accuracy']=Test_acc\n",
    "Results['Test AUROC']=Test_AUROC\n",
    "Results['Test_AUPRC']=Test_AUPRC\n",
    "Results"
   ]
  }
 ],
 "metadata": {
  "colab": {
   "collapsed_sections": [],
   "name": "Transfer_learning.ipynb",
   "provenance": [],
   "version": "0.3.2"
  },
  "kernelspec": {
   "display_name": "Python (myenv)",
   "language": "python",
   "name": "my_pymc_env"
  },
  "language_info": {
   "codemirror_mode": {
    "name": "ipython",
    "version": 3
   },
   "file_extension": ".py",
   "mimetype": "text/x-python",
   "name": "python",
   "nbconvert_exporter": "python",
   "pygments_lexer": "ipython3",
   "version": "3.7.2"
  }
 },
 "nbformat": 4,
 "nbformat_minor": 1
}
